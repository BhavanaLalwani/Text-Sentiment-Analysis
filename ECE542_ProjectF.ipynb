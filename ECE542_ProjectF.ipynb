{
  "nbformat": 4,
  "nbformat_minor": 0,
  "metadata": {
    "colab": {
      "name": "ECE542-ProjectF.ipynb",
      "provenance": [],
      "collapsed_sections": [
        "u-b2BeBqL-B5"
      ],
      "toc_visible": true,
      "include_colab_link": true
    },
    "kernelspec": {
      "name": "python3",
      "display_name": "Python 3"
    },
    "accelerator": "GPU"
  },
  "cells": [
    {
      "cell_type": "markdown",
      "metadata": {
        "id": "view-in-github",
        "colab_type": "text"
      },
      "source": [
        "<a href=\"https://colab.research.google.com/github/BhavanaLalwani/Text-Sentiment-Analysis/blob/master/ECE542_ProjectF.ipynb\" target=\"_parent\"><img src=\"https://colab.research.google.com/assets/colab-badge.svg\" alt=\"Open In Colab\"/></a>"
      ]
    },
    {
      "cell_type": "markdown",
      "metadata": {
        "id": "F-8QM15rLpOY",
        "colab_type": "text"
      },
      "source": [
        "# Preamble\n",
        "This part is just performing the imports and defining the utility functions required for the project."
      ]
    },
    {
      "cell_type": "code",
      "metadata": {
        "id": "mJF1cVbvywtt",
        "colab_type": "code",
        "outputId": "ceed49be-b724-4547-856f-82d3ece85546",
        "colab": {
          "base_uri": "https://localhost:8080/",
          "height": 122
        }
      },
      "source": [
        "from google.colab import drive\n",
        "drive.mount('/content/drive')"
      ],
      "execution_count": 0,
      "outputs": [
        {
          "output_type": "stream",
          "text": [
            "Go to this URL in a browser: https://accounts.google.com/o/oauth2/auth?client_id=947318989803-6bn6qk8qdgf4n4g3pfee6491hc0brc4i.apps.googleusercontent.com&redirect_uri=urn%3aietf%3awg%3aoauth%3a2.0%3aoob&response_type=code&scope=email%20https%3a%2f%2fwww.googleapis.com%2fauth%2fdocs.test%20https%3a%2f%2fwww.googleapis.com%2fauth%2fdrive%20https%3a%2f%2fwww.googleapis.com%2fauth%2fdrive.photos.readonly%20https%3a%2f%2fwww.googleapis.com%2fauth%2fpeopleapi.readonly\n",
            "\n",
            "Enter your authorization code:\n",
            "··········\n",
            "Mounted at /content/drive\n"
          ],
          "name": "stdout"
        }
      ]
    },
    {
      "cell_type": "code",
      "metadata": {
        "id": "IxOqa-LNWN-z",
        "colab_type": "code",
        "colab": {}
      },
      "source": [
        "# Upgrade TensorFlow and Keras\n",
        "# !pip install --upgrade tensorflow\n",
        "# !pip install --upgrade keras\n",
        "# !pip install nltk\n",
        "# !pip install gensim\n",
        "\n",
        "# Standard imports\n",
        "import numpy as np\n",
        "import csv\n",
        "import argparse\n",
        "import os\n",
        "import json\n",
        "import random\n",
        "import math\n",
        "import matplotlib.pyplot as plt\n",
        "import matplotlib\n",
        "import pandas as pd\n",
        "import seaborn as sns\n",
        "\n",
        "from sklearn.metrics import classification_report, confusion_matrix, recall_score, precision_score\n",
        "import sklearn\n",
        "\n",
        "# Keras imports\n",
        "from keras.preprocessing.text import one_hot, Tokenizer\n",
        "from keras.preprocessing.sequence import pad_sequences\n",
        "from keras.models import Sequential\n",
        "from keras.layers import Dense, Flatten, Input\n",
        "from keras.layers import Conv1D, MaxPooling1D\n",
        "from keras.layers.embeddings import Embedding\n",
        "from keras.models import Model, Sequential, load_model\n",
        "from keras.utils import to_categorical\n",
        "from keras.layers import Conv1D, MaxPooling1D, Bidirectional, LSTM, Dropout, GlobalMaxPooling1D\n",
        "from keras.initializers import Constant\n",
        "from keras import backend as K\n",
        "import keras\n",
        "\n",
        "BASE_DIR = 'drive/My Drive/ECE542-ProjectF/'\n",
        "DATA_DIR = BASE_DIR + 'data/'\n",
        "\n",
        "GLOVE_DIR = DATA_DIR + 'GloVe'\n",
        "ISEAR_PATH = DATA_DIR + 'isear/isear_clean.csv'\n",
        "W2V_PATH = DATA_DIR + 'w2v/GoogleNews-vectors-negative300.bin'\n",
        "CANDIDATE = BASE_DIR + 'candidate_model.h5'\n",
        "\n",
        "# TEXT_DATA_DIR = os.path.join(BASE_DIR, '20_newsgroup')\n",
        "MAX_SEQUENCE_LENGTH = 200\n",
        "MAX_NUM_WORDS = 20000\n",
        "EMBEDDING_DIM = 300\n",
        "\n",
        "ISEAR_SHUFFLE_SEED = 62\n",
        "KAGGLE_SHUFFLE_SEED = 43\n",
        "\n",
        "ISEAR_TEST_SPLIT = 0.1\n",
        "ISEAR_VALIDATION_SPLIT = 0.1\n",
        "KAGGLE_VALIDATION_SPLIT = 0.2\n",
        "\n",
        "EMBEDDING_TYPE = 'GloVe'\n"
      ],
      "execution_count": 0,
      "outputs": []
    },
    {
      "cell_type": "code",
      "metadata": {
        "id": "MGsjYtiOe4r-",
        "colab_type": "code",
        "colab": {}
      },
      "source": [
        "def split_data(data, labels, val_split, test_split, seed):\n",
        "  # Shuffle our dataset. Using a known seed allows us to get the same result \n",
        "  # each time we run the script.\n",
        "  indices = np.arange(data.shape[0])\n",
        "  random.Random(seed).shuffle(indices)\n",
        "\n",
        "  data = data[indices]\n",
        "  labels = labels[indices]\n",
        "\n",
        "  # Determine number of samples in train/val/test\n",
        "  num_val = math.floor(data.shape[0] * val_split)\n",
        "  num_test = math.floor(data.shape[0] * test_split)\n",
        "\n",
        "  # Split the data into the test, val, and train subsets.\n",
        "  x_test = data[:num_test]\n",
        "  y_test = labels[:num_test]\n",
        "\n",
        "  x_val = data[num_test:num_val + num_test]\n",
        "  y_val = labels[num_test:num_val + num_test]\n",
        "\n",
        "  x_train = data[num_val + num_test:]\n",
        "  y_train = labels[num_val + num_test:]\n",
        "\n",
        "  # Return a dictionary of the data with train/val/test and x/y.\n",
        "  return {\n",
        "      'train': {\n",
        "          'x': x_train, 'y': y_train\n",
        "      },\n",
        "      'val': {\n",
        "          'x': x_val, 'y': y_val\n",
        "      },\n",
        "      'test': {\n",
        "          'x': x_test, 'y': y_test\n",
        "      }\n",
        "  }\n",
        "\n",
        "# Define custom metrics for model performance during training.\n",
        "def prec_m(y_true, y_pred):\n",
        "    tp = K.sum(K.round(K.clip(y_true * y_pred, 0, 1)))\n",
        "    pp = K.sum(K.round(K.clip(y_pred, 0, 1)))\n",
        "    precision = tp / (pp + K.epsilon())\n",
        "    return precision\n",
        "\n",
        "def recall_m(y_true, y_pred):\n",
        "    tp = K.sum(K.round(K.clip(y_true * y_pred, 0, 1)))\n",
        "    pp = K.sum(K.round(K.clip(y_true, 0, 1)))\n",
        "    recall = tp / (pp + K.epsilon())\n",
        "    return recall\n",
        "\n",
        "def f1_m(y_true, y_pred):\n",
        "    precision = prec_m(y_true, y_pred)\n",
        "    recall = recall_m(y_true, y_pred)\n",
        "    return 2*((precision*recall)/(precision + recall + K.epsilon()))\n",
        "\n",
        "# Create function for learning rate\n",
        "def step_decay(epoch):\n",
        "   initial_lrate = 1e-3\n",
        "   drop = 0.5\n",
        "   epochs_drop = 5.0\n",
        "   lrate = initial_lrate * math.pow(drop, math.floor((1 + epoch)/epochs_drop))\n",
        "   return lrate"
      ],
      "execution_count": 0,
      "outputs": []
    },
    {
      "cell_type": "markdown",
      "metadata": {
        "id": "D-jDWVDWLkmd",
        "colab_type": "text"
      },
      "source": [
        "# Preprocessing"
      ]
    },
    {
      "cell_type": "code",
      "metadata": {
        "id": "RZnlxtIjZgCv",
        "colab_type": "code",
        "colab": {}
      },
      "source": [
        "# Load the ISEAR and Kaggle datasets and Tokenize the datasets\n",
        "# Both datasets have the label as their first index and the text as their second\n",
        "\n",
        "isear_text_data = []\n",
        "isear_labels = []\n",
        "kaggle_text_data = []\n",
        "kaggle_labels = []\n",
        "\n",
        "with open((ISEAR_PATH), 'r') as f:\n",
        "  reader = csv.reader(f)\n",
        "  for row in reader:\n",
        "    isear_text_data.append(row[1])\n",
        "    isear_labels.append(int(row[0]))"
      ],
      "execution_count": 0,
      "outputs": []
    },
    {
      "cell_type": "code",
      "metadata": {
        "id": "Vq_dQrntadwT",
        "colab_type": "code",
        "colab": {}
      },
      "source": [
        "## Tokenize ISEAR\n",
        "\n",
        "# ISEAR\n",
        "isear_tokenizer = Tokenizer(num_words=MAX_NUM_WORDS)\n",
        "isear_tokenizer.fit_on_texts(isear_text_data)\n",
        "isear_seq = isear_tokenizer.texts_to_sequences(isear_text_data)\n",
        "isear_index = isear_tokenizer.word_index\n",
        "isear_data = pad_sequences(isear_seq, maxlen=MAX_SEQUENCE_LENGTH)\n",
        "isear_labels = to_categorical(isear_labels)\n",
        "\n",
        "# Shuffle our dataset. Using a known seed allows us to get the same result \n",
        "# each time we run the script.\n",
        "isear_split = split_data(\n",
        "    isear_data, \n",
        "    isear_labels, \n",
        "    ISEAR_VALIDATION_SPLIT, \n",
        "    ISEAR_TEST_SPLIT, \n",
        "    ISEAR_SHUFFLE_SEED\n",
        "  )"
      ],
      "execution_count": 0,
      "outputs": []
    },
    {
      "cell_type": "markdown",
      "metadata": {
        "id": "J_uOmVb5Lex9",
        "colab_type": "text"
      },
      "source": [
        "## Create Embeddings"
      ]
    },
    {
      "cell_type": "code",
      "metadata": {
        "id": "4EQzS-KLlBv-",
        "colab_type": "code",
        "outputId": "693ea394-54ae-40ce-cfa2-e2158e95badc",
        "colab": {
          "base_uri": "https://localhost:8080/",
          "height": 34
        }
      },
      "source": [
        "## Prepare the Embedding matrix\n",
        "\n",
        "embeddings_index = {}\n",
        "with open(os.path.join(GLOVE_DIR, 'glove.6B.{0:d}d.txt'.format(EMBEDDING_DIM))) as f:\n",
        "    for line in f:\n",
        "        word, coefs = line.split(maxsplit=1)\n",
        "        coefs = np.fromstring(coefs, 'f', sep=' ')\n",
        "        embeddings_index[word] = coefs\n",
        "\n",
        "print('Found {0:d} word vectors.'.format(len(embeddings_index)))\n",
        "\n",
        "isear_embedding_matrix = np.zeros((MAX_NUM_WORDS, EMBEDDING_DIM))\n",
        "for word, i in isear_index.items():\n",
        "    if i >= MAX_NUM_WORDS:\n",
        "        continue\n",
        "    embedding_vector = embeddings_index.get(word)\n",
        "    if embedding_vector is not None:\n",
        "        # words not found in embedding index will be all-zeros.\n",
        "        isear_embedding_matrix[i] = embedding_vector\n"
      ],
      "execution_count": 0,
      "outputs": [
        {
          "output_type": "stream",
          "text": [
            "Found 400000 word vectors.\n"
          ],
          "name": "stdout"
        }
      ]
    },
    {
      "cell_type": "code",
      "metadata": {
        "id": "CTkqdzpnQpwN",
        "colab_type": "code",
        "colab": {}
      },
      "source": [
        "from gensim.models import KeyedVectors\n",
        "\n",
        "model_w2v = KeyedVectors.load_word2vec_format(W2V_PATH, binary=False)\n",
        "w2v_index = {}\n",
        "for word in model_w2v.wv.vocab.keys():\n",
        "  w2v_index[word] = model_w2v.wv[word]\n",
        "\n",
        "w2v_embedding_matrix = np.zeros((MAX_NUM_WORDS, EMBEDDING_DIM))\n",
        "for word, i in isear_index.items():\n",
        "\n",
        "  if i >= MAX_NUM_WORDS:\n",
        "    continue\n",
        "\n",
        "  embedding_vector = embedding_idx.get(word)\n",
        "  if embedding_vector is not None:\n",
        "    # Embedding not found\n",
        "    w2v_embedding_matrix[i] = embedding_vector\n"
      ],
      "execution_count": 0,
      "outputs": []
    },
    {
      "cell_type": "markdown",
      "metadata": {
        "id": "xr1zixNELXw-",
        "colab_type": "text"
      },
      "source": [
        "# Model Definition"
      ]
    },
    {
      "cell_type": "code",
      "metadata": {
        "id": "iIHVGSwJ8ptc",
        "colab_type": "code",
        "colab": {}
      },
      "source": [
        "def NLPModel(embedding_matrix, num_classes, bidirectional=True,\n",
        "             mode='parallel', optimizer=None, rnn_size=128, rnn_type='lstm', \n",
        "             embedding_trainable=True, max_seq_len=MAX_SEQUENCE_LENGTH,\n",
        "             max_num_words=MAX_NUM_WORDS, embedding_dim=EMBEDDING_DIM):\n",
        "    \n",
        "    seq_input = Input(shape=(max_seq_len,))\n",
        "    x = Embedding(\n",
        "        max_num_words,\n",
        "        embedding_dim,\n",
        "        embeddings_initializer=Constant(embedding_matrix),\n",
        "        input_length=max_seq_len,\n",
        "        trainable=embedding_trainable\n",
        "    )(seq_input)\n",
        "    x = Dropout(0.25)(x)\n",
        "\n",
        "\n",
        "    ## Deep Layers\n",
        "    # Convolutional layer\n",
        "    x = Conv1D(128, kernel_size=3, activation='relu')(x)\n",
        "    x = Conv1D(256, kernel_size=3, activation='relu')(x)\n",
        "    x = MaxPooling1D(5)(x)\n",
        "\n",
        "    if rnn_type == 'gru':\n",
        "        # Recurrent Layer\n",
        "        if mode == 'parallel':\n",
        "            if bidirectional:\n",
        "                gru_x = Bidirectional(GRU(rnn_size))(x)\n",
        "                gru_y = Bidirectional(GRU(rnn_size))(x)\n",
        "            else:\n",
        "                gru_x = GRU(rnn_size)(x)\n",
        "                gru_y = GRU(rnn_size)(x)\n",
        "\n",
        "            x = concatenate([gru_x, gru_y])\n",
        "\n",
        "        elif mode == 'stack':\n",
        "            if bidirectional:\n",
        "                x = Bidirectional(GRU(rnn_size, return_sequences=True))(x)\n",
        "                x = Bidirectional(GRU(rnn_size))(x)\n",
        "            else:\n",
        "                x = GRU(rnn_size, return_sequences=True)(x)\n",
        "                x = GRU(rnn_size)(x)\n",
        "        else:\n",
        "            if bidirectional:\n",
        "                x = Bidirectional(GRU(rnn_size))(x)\n",
        "            else:\n",
        "                x = GRU(rnn_size)(x)\n",
        "    else:\n",
        "        if mode == 'parallel':\n",
        "            if bidirectional:\n",
        "                lstm_x = Bidirectional(LSTM(rnn_size))(x)\n",
        "                lstm_y = Bidirectional(LSTM(rnn_size))(x)\n",
        "            else:\n",
        "                lstm_x = LSTM(rnn_size)(x)\n",
        "                lstm_y = LSTM(rnn_size)(x)\n",
        "\n",
        "            x = concatenate([lstm_x, lstm_y])\n",
        "        elif mode == 'stack':\n",
        "            if bidirectional:\n",
        "                x = Bidirectional(LSTM(rnn_size, return_sequences=True))(x)\n",
        "                x = Bidirectional(LSTM(rnn_size))(x)\n",
        "            else:\n",
        "                x = LSTM(rnn_size, return_sequences=True)(x)\n",
        "                x = LSTM(rnn_size)(x)\n",
        "        else:\n",
        "            if bidirectional:\n",
        "                x = Bidirectional(LSTM(rnn_size))(x)\n",
        "            else:\n",
        "                x = LSTM(rnn_size)(x)\n",
        "\n",
        "    x = Dropout(0.5)(x)\n",
        "\n",
        "    # Predictive Layer\n",
        "    x = Dense(256, activation='relu')(x)\n",
        "    x = Dropout(0.25)(x)\n",
        "\n",
        "    if num_classes > 2:\n",
        "        pred = Dense(num_classes, activation='softmax')(x)\n",
        "        loss = 'categorical_crossentropy'\n",
        "    else:\n",
        "        pred = Dense(1, activation='sigmoid')(x)\n",
        "        loss = 'binary_crossentropy'\n",
        "\n",
        "    if optimizer is None:\n",
        "        opt = keras.optimizers.Adam(learning_rate=1e-3)\n",
        "    else:\n",
        "        opt = optimizer\n",
        "\n",
        "    model = Model(inputs=[seq_input], outputs=[pred])\n",
        "    model.compile(\n",
        "        optimizer=opt,\n",
        "        loss=loss,\n",
        "        metrics=['acc', f1_m, prec_m, recall_m]\n",
        "    )\n",
        "\n",
        "    return model"
      ],
      "execution_count": 0,
      "outputs": []
    },
    {
      "cell_type": "markdown",
      "metadata": {
        "id": "BIsB8xjXLyJK",
        "colab_type": "text"
      },
      "source": [
        "# Model Training"
      ]
    },
    {
      "cell_type": "code",
      "metadata": {
        "id": "vzEhZO8knla_",
        "colab_type": "code",
        "colab": {}
      },
      "source": [
        "# Create the model\n",
        "if EMBEDDING_TYPE == 'GloVe':\n",
        "  embed_mat = isear_embedding_matrix\n",
        "elif EMBEDDING_TYPE == 'Word2Vec':\n",
        "  embed_mat = w2v_embedding_matrix\n",
        "\n",
        "model = NLPModel(\n",
        "    embed_mat,\n",
        "    7,\n",
        "    bidirectional=True,\n",
        "    mode='stack',\n",
        "    optimizer=keras.optimizers.Adam(learning_rate=1e-3),\n",
        "    rnn_size=128,\n",
        "    rnn_type='lstm',\n",
        "    embedding_trainable=False,\n",
        "    max_seq_len=MAX_SEQUENCE_LENGTH,\n",
        "    max_num_words=MAX_NUM_WORDS,\n",
        "    embedding_dim=EMBEDDING_DIM\n",
        ")\n",
        "\n",
        "history = model.fit(\n",
        "    isear_split['train']['x'], isear_split['train']['y'],\n",
        "    batch_size=16,\n",
        "    epochs=5,\n",
        "    validation_data = (isear_split['val']['x'], isear_split['val']['y']),\n",
        "    callbacks=[\n",
        "      keras.callbacks.ModelCheckpoint(filepath='candidate.h5', monitor='val_loss', save_best_only=True)\n",
        "    ]\n",
        ")\n",
        "\n",
        "# Plot history curves.\n",
        "plt.plot(history.history['acc'])\n",
        "plt.plot(history.history['val_acc'])\n",
        "plt.title('Model accuracy')\n",
        "plt.ylabel('Accuracy')\n",
        "plt.xlabel('Epoch')\n",
        "plt.legend(['Train', 'Test'], loc='upper left')\n",
        "plt.show()\n",
        "\n",
        "# Plot training & validation loss values\n",
        "plt.plot(history.history['loss'])\n",
        "plt.plot(history.history['val_loss'])\n",
        "plt.title('Model loss')\n",
        "plt.ylabel('Loss')\n",
        "plt.xlabel('Epoch')\n",
        "plt.legend(['Train', 'Test'], loc='upper left')\n",
        "plt.show()\n",
        "\n",
        "plt.plot(history.history['f1_m'])\n",
        "plt.plot(history.history['val_f1_m'])\n",
        "plt.title('Model F1')\n",
        "plt.ylabel('F1')\n",
        "plt.xlabel('Epoch')\n",
        "plt.legend(['Train', 'Test'], loc='upper left')\n",
        "plt.show()\n",
        "\n",
        "# Evaluate the model on the test data\n",
        "labels = isear_split['test']['y']\n",
        "y_pred = []\n",
        "\n",
        "predictions = model.predict(isear_split['test']['x'])\n",
        "for pred in predictions:\n",
        "  pred_oh = np.argmax(pred)\n",
        "  y_pred.append(pred_oh)\n",
        "\n",
        "text_labels = ['anger', 'disgust', 'fear', 'guilt', 'joy', 'sadness', 'shame']\n",
        "\n",
        "y_true = [np.argmax(label) for label in labels]\n",
        "y_pred = [np.argmax(pred) for pred in predictions]\n",
        "\n",
        "report = classification_report(y_true, y_pred, digits=3)\n",
        "print(report)\n",
        "print('Precision: {0:0.3f}'.format(precision_score(y_true, y_pred, average='macro')))\n",
        "print('Recall: {0:0.3f}'.format(recall_score(y_true, y_pred, average='macro')))\n",
        "\n",
        "acc = sklearn.metrics.accuracy_score(y_true, y_pred)\n",
        "f1 = sklearn.metrics.f1_score(y_true, y_pred, average='macro')\n",
        "conf_matrix = confusion_matrix(y_true, y_pred, normalize='true')\n",
        "\n",
        "ax = sns.heatmap(conf_matrix, annot=conf_matrix, fmt='0.2f',\n",
        "  xticklabels=text_labels, yticklabels=text_labels,\n",
        "  cmap='Blues'\n",
        ")\n",
        "ax.set_yticklabels(ax.get_yticklabels(), rotation = 0)\n",
        "ax.tick_params(axis=u'both', which=u'both',length=0)\n",
        "plt.title('Normalized Confusion Matrix')\n",
        "plt.ylabel('True Class')\n",
        "plt.xlabel('Predicted Class')\n",
        "plt.savefig('ConfusionMatrix.png')\n",
        "plt.show()\n"
      ],
      "execution_count": 0,
      "outputs": []
    },
    {
      "cell_type": "markdown",
      "metadata": {
        "id": "weon8_c1L5ZP",
        "colab_type": "text"
      },
      "source": [
        "# Hyperparameter Tuning"
      ]
    },
    {
      "cell_type": "markdown",
      "metadata": {
        "id": "u-b2BeBqL-B5",
        "colab_type": "text"
      },
      "source": [
        "## Learning Rate Selection"
      ]
    },
    {
      "cell_type": "code",
      "metadata": {
        "id": "TBzZwm-0SJS9",
        "colab_type": "code",
        "outputId": "299485df-d9b8-4eb1-e7cd-ba51abf87a09",
        "colab": {
          "base_uri": "https://localhost:8080/",
          "height": 489
        }
      },
      "source": [
        "# Determine the best learning rate parameters\n",
        "\n",
        "lr_history = {\n",
        "  'Adam': {'x': [], 'y': [], 'loss': []},\n",
        "  'Nadam': {'x': [], 'y': [], 'loss': []},\n",
        "  'RMSprop': {'x': [], 'y': [], 'loss': []},\n",
        "  'SGD Momentum': {'x': [], 'y': [], 'loss': []},\n",
        "  'SGD Nesterov': {'x': [], 'y': [], 'loss': []}\n",
        "}\n",
        "\n",
        "lr_rates = [1e-6, 5e-6, 1e-5, 5e-5, 1e-4, 5e-4, \n",
        "            1e-3, 5e-3, 1e-2, 5e-2, 1e-1, 5e-1, 1]\n",
        "\n",
        "# Iterate over each learning rate. This allows us to specify the learning\n",
        "# rate while constructing the optimizer.\n",
        "for rate in lr_rates:\n",
        "  \n",
        "  # Map the string name with optimizer code\n",
        "  opt_map = {\n",
        "    'Adam': keras.optimizers.Adam(lr=rate),\n",
        "    'Nadam': keras.optimizers.Nadam(lr=rate),\n",
        "    'RMSprop': keras.optimizers.RMSprop(lr=rate),\n",
        "    'SGD Momentum': keras.optimizers.SGD(lr=rate, momentum=0.9, nesterov=True),\n",
        "    'SGD Nesterov': keras.optimizers.SGD(lr=rate, momentum=0.9, nesterov=False)\n",
        "  }\n",
        "\n",
        "  # Iterate over all optimizers and train the model.\n",
        "  for opt_name, optimizer in opt_map.items():\n",
        "\n",
        "    # Run the model and train it\n",
        "    model = model = NLPModel(\n",
        "      isear_embedding_matrix,\n",
        "      7,\n",
        "      bidirectional=True,\n",
        "      mode='stack',\n",
        "      optimizer=keras.optimizers.Adam(lr=1e-3),\n",
        "      rnn_size=128,\n",
        "      rnn_type='lstm',\n",
        "      embedding_trainable=True,\n",
        "      max_seq_len=MAX_SEQUENCE_LENGTH,\n",
        "      max_num_words=MAX_NUM_WORDS,\n",
        "      embedding_dim=EMBEDDING_DIM\n",
        "    )\n",
        "\n",
        "    # Fit the model.\n",
        "    print('Testing {0:s} Learning Rate: {1:0.0e}'.format(opt_name, rate))\n",
        "    history = model.fit(\n",
        "      isear_split['train']['x'], isear_split['train']['y'],\n",
        "      batch_size=128,\n",
        "      epochs=1,\n",
        "      validation_data=(isear_split['val']['x'], isear_split['val']['y'])\n",
        "    )\n",
        "\n",
        "    # Append data for optimizer\n",
        "    lr_history[opt_name]['x'].append(rate)\n",
        "    lr_history[opt_name]['y'].append(min(history.history['val_loss']))\n",
        "    lr_history[opt_name]['loss'].append(history.history['val_loss'])\n",
        "\n",
        "with open('lr_history.json', 'w') as f:\n",
        "  f.write(json.dumps(lr_history, indent=2))\n",
        "\n",
        "# Plot the results. Use a semilogx axis since the learning rate increases in\n",
        "# magnitude logarithmically.\n",
        "labels = []\n",
        "for opt, data in lr_history.items():\n",
        "  labels.append(opt)\n",
        "  plt.semilogx(data['x'], data['y'])\n",
        "\n",
        "# plt.grid()\n",
        "plt.xlabel('Learning Rate')\n",
        "plt.ylabel('Model Loss')\n",
        "plt.title('Model Loss vs. Learning Rate - Optimizer Comparison')\n",
        "plt.legend(labels)\n",
        "plt.show()"
      ],
      "execution_count": 0,
      "outputs": [
        {
          "output_type": "stream",
          "text": [
            "Testing Adam Learning Rate: 1e-03\n"
          ],
          "name": "stdout"
        },
        {
          "output_type": "stream",
          "text": [
            "/usr/local/lib/python3.6/dist-packages/tensorflow/python/framework/indexed_slices.py:434: UserWarning: Converting sparse IndexedSlices to a dense Tensor of unknown shape. This may consume a large amount of memory.\n",
            "  \"Converting sparse IndexedSlices to a dense Tensor of unknown shape. \"\n"
          ],
          "name": "stderr"
        },
        {
          "output_type": "stream",
          "text": [
            "Train on 5975 samples, validate on 746 samples\n",
            "Epoch 1/1\n",
            "5975/5975 [==============================] - 15s 3ms/step - loss: 1.9477 - acc: 0.1572 - f1_m: 0.0000e+00 - prec_m: 0.0000e+00 - recall_m: 0.0000e+00 - val_loss: 1.9439 - val_acc: 0.1635 - val_f1_m: 0.0000e+00 - val_prec_m: 0.0000e+00 - val_recall_m: 0.0000e+00\n",
            "Testing Adam Learning Rate: 1e-02\n",
            "Train on 5975 samples, validate on 746 samples\n",
            "Epoch 1/1\n",
            "5975/5975 [==============================] - 15s 3ms/step - loss: 1.9482 - acc: 0.1598 - f1_m: 0.0000e+00 - prec_m: 0.0000e+00 - recall_m: 0.0000e+00 - val_loss: 1.9316 - val_acc: 0.1716 - val_f1_m: 0.0000e+00 - val_prec_m: 0.0000e+00 - val_recall_m: 0.0000e+00\n"
          ],
          "name": "stdout"
        },
        {
          "output_type": "display_data",
          "data": {
            "image/png": "[encoded data removed]",
            "text/plain": [
              "<Figure size 432x288 with 1 Axes>"
            ]
          },
          "metadata": {
            "tags": [],
            "needs_background": "light"
          }
        }
      ]
    },
    {
      "cell_type": "markdown",
      "metadata": {
        "id": "mDLKR050MA8Z",
        "colab_type": "text"
      },
      "source": [
        "## Batch Size Selection"
      ]
    },
    {
      "cell_type": "code",
      "metadata": {
        "id": "fCXt5LWITYSV",
        "colab_type": "code",
        "colab": {}
      },
      "source": [
        "# Batch size optimization\n",
        "\n",
        "batch_history = {}\n",
        "# Iterate over specified batch sizes\n",
        "batch_sizes = [8, 16, 32, 64, 128]\n",
        "for batch_size in batch_sizes:\n",
        "\n",
        "  # Run the model and train it\n",
        "  model = NLPModel(\n",
        "      isear_embedding_matrix,\n",
        "      7,\n",
        "      bidirectional=True,\n",
        "      mode='stack',\n",
        "      optimizer=keras.optimizers.Adam(lr=1e-3),\n",
        "      rnn_size=128,\n",
        "      rnn_type='lstm',\n",
        "      embedding_trainable=True,\n",
        "      max_seq_len=MAX_SEQUENCE_LENGTH,\n",
        "      max_num_words=MAX_NUM_WORDS,\n",
        "      embedding_dim=EMBEDDING_DIM\n",
        "    )\n",
        "\n",
        "  print('Testing Batch Size: {0:d}'.format(batch_size))\n",
        "  history = model.fit(\n",
        "    isear_split['train']['x'], isear_split['train']['y'],\n",
        "    batch_size=batch_size,\n",
        "    epochs=15,\n",
        "    validation_data=(isear_split['val']['x'], isear_split['val']['y'])\n",
        "  )\n",
        "\n",
        "  # Append data for optimizer\n",
        "  batch_str = str(batch_size)\n",
        "  batch_history[batch_str] = {'x': [], 'y': [], 'loss': []}\n",
        "  batch_history[batch_str]['x'].append([x + 1 for x in range(epochs)])\n",
        "  batch_history[batch_str]['y'].append(min(history.history['val_loss']))\n",
        "  batch_history[batch_str]['loss'].append(history.history['val_loss'])\n",
        "\n",
        "# Save data to file\n",
        "with open('batch_history.json', 'w') as f:\n",
        "  f.write(json.dumps(batch_history, indent=2))\n",
        "\n",
        "# Plot the results\n",
        "labels = []\n",
        "for bsize, data in batch_history.items():\n",
        "  labels.append('Batch size {0:s}'.format(bsize))\n",
        "  plt.plot(data['x'], data['y'])\n",
        "\n",
        "plt.xlabel('Epoch')\n",
        "plt.ylabel('Validation Loss')\n",
        "plt.title('Validtion Loss vs. Epoch - Batch Size Comparison')\n",
        "plt.legend(labels)\n",
        "plt.show()"
      ],
      "execution_count": 0,
      "outputs": []
    },
    {
      "cell_type": "markdown",
      "metadata": {
        "id": "mIO0uKVLPwaS",
        "colab_type": "text"
      },
      "source": [
        "## Model Variant Selection\n",
        "This section iterates and varies the RNN architecture as well as the embedding layer to determine the best architecture configuration."
      ]
    },
    {
      "cell_type": "code",
      "metadata": {
        "id": "j13kzIJsPv30",
        "colab_type": "code",
        "colab": {}
      },
      "source": [
        "results = {}\n",
        "for embed_train in [False, True]:\n",
        "  for rnn_type in ['lstm', 'gru']:\n",
        "    for bidirectional in [False, True]:\n",
        "      for embedding_name in ['GloVe', 'W2V']:\n",
        "        \n",
        "        if embedding_name == 'GloVe':\n",
        "          embedding_mat = isear_embedding_matrix\n",
        "        else:\n",
        "          embedding_mat = w2v_embedding_matrix\n",
        "\n",
        "        print('Now training: {1:s}{0:s} {2:s}'.format(\n",
        "            rnn_type.upper(),\n",
        "            'Bi' if bidirectional else '',\n",
        "            'Unfrozen' if embed_train else 'Frozen'\n",
        "        ))\n",
        "        model = NLPModel(\n",
        "            embedding_mat,\n",
        "            7,\n",
        "            bidirectional=True,\n",
        "            mode='stack',\n",
        "            optimizer=keras.optimizers.Adam(lr=1e-3),\n",
        "            rnn_size=128,\n",
        "            rnn_type=rnn_type,\n",
        "            embedding_trainable=embed_train,\n",
        "            max_seq_len=MAX_SEQUENCE_LENGTH,\n",
        "            max_num_words=MAX_NUM_WORDS,\n",
        "            embedding_dim=EMBEDDING_DIM\n",
        "        )\n",
        "\n",
        "        history = model.fit(\n",
        "            isear_split['train']['x'], isear_split['train']['y'],\n",
        "            batch_size=16,\n",
        "            epochs=20,\n",
        "            validation_data=(isear_split['val']['x'], isear_split['val']['y'])\n",
        "        )\n",
        "\n",
        "        # Get epoch that had lowest validation loss.\n",
        "        min_val_idx = history.history['val_loss'].index(min(history.history['val_loss']))\n",
        "\n",
        "        # Record the F1 and accuracy of that epoch in results.\n",
        "        cfg_name = '{0:s}_{1:s}{2:s}_{3:s}'.format(\n",
        "            embedding_name,\n",
        "            'Bi' if bidirectional else '',\n",
        "            rnn_type.upper(),\n",
        "            'Unfrozen' if embed_train else 'Frozen'\n",
        "        )\n",
        "\n",
        "        results[cfg_name] = {\n",
        "            'Accuracy': history.history['val_acc'][min_val_idx],\n",
        "            'F1M': history.history['val_f1m'][min_val_idx]\n",
        "        }"
      ],
      "execution_count": 0,
      "outputs": []
    },
    {
      "cell_type": "code",
      "metadata": {
        "id": "2FQg6zYESWBs",
        "colab_type": "code",
        "colab": {}
      },
      "source": [
        "# Plot the results of the trainings in a matrix.\n",
        "f1 = np.zeros((4,4))\n",
        "acc = np.zeros((4,4))\n",
        "f1_annot = np.chararray((4,4), itemsize=5)\n",
        "labels = np.chararray((4,4), itemsize=21)\n",
        "for i, row in enumerate(f1):\n",
        "  for j, col in enumerate(row):\n",
        "\n",
        "    rnn_type = 'LSTM' if i < 2 else 'GRU'\n",
        "    bidir_type = 'Bi' if i % 2 != 0 else ''\n",
        "    train_set = 'GloVe' if j < 2 else 'W2V'\n",
        "    train_type = 'Frozen' if j % 2 == 0 else 'Unfrozen'\n",
        "\n",
        "    rnn_text = bidir_type + rnn_type\n",
        "    name = train_set + '_' + rnn_text + '_' + train_type\n",
        "\n",
        "    labels[i][j] = name\n",
        "    f1[i][j] = results[name]['candidate_model.h5']['F1M']\n",
        "    # print(type(results[name]['candidate_model.h5']['F1M']))\n",
        "    # print(type(f1[i][j]))\n",
        "    f1_annot[i][j] = f1[i][j]\n",
        "    acc[i][j] = results[name]['candidate_model.h5']['Accuracy']\n",
        "\n",
        "ax = sns.heatmap(f1, annot=f1 ,cmap='Blues', fmt='0.3f',\n",
        "yticklabels=['LSTM', 'BiLSTM', 'GRU', 'BiGRU'],\n",
        "xticklabels=['GloVe F', 'GloVe UF', 'W2V F', 'W2V UF'])\n",
        "ax.set_yticklabels(ax.get_yticklabels(), rotation = 0)\n",
        "ax.tick_params(axis=u'both', which=u'both',length=0)\n",
        "plt.title('Model F1 Scores')\n",
        "plt.show()"
      ],
      "execution_count": 0,
      "outputs": []
    },
    {
      "cell_type": "markdown",
      "metadata": {
        "id": "8bGrAZYlMFtz",
        "colab_type": "text"
      },
      "source": [
        "# Sample Inputs with Candidate Model"
      ]
    },
    {
      "cell_type": "code",
      "metadata": {
        "id": "MekoEGi0WX3W",
        "colab_type": "code",
        "outputId": "0860a0e4-2b31-4b2f-c359-edde9717ec00",
        "colab": {
          "base_uri": "https://localhost:8080/",
          "height": 312
        }
      },
      "source": [
        "\n",
        "def translate(vals, left, right):\n",
        "    return ((vals / max(vals)) * (right - left)) + left\n",
        "\n",
        "input_text = 'When I understood that the girl I liked was in love with me.'\n",
        "text_labels = ['anger', 'disgust', 'fear', 'guilt', 'joy', 'sadness', 'shame']\n",
        "\n",
        "seq = isear_tokenizer.texts_to_sequences([input_text])\n",
        "data = pad_sequences(seq, maxlen=MAX_SEQUENCE_LENGTH)\n",
        "\n",
        "model = load_model(CANDIDATE,\n",
        "  custom_objects={\n",
        "    'f1_m': f1_m,\n",
        "    'recall_m': recall_m,\n",
        "    'prec_m': prec_m\n",
        "})\n",
        "\n",
        "\n",
        "pred = model.predict(data)\n",
        "pred = pred.flatten().tolist()\n",
        "print(pred)\n",
        "\n",
        "df_data = {\n",
        "    'Confidence': pred,\n",
        "    'Emotion': text_labels\n",
        "}\n",
        "df = pd.DataFrame(data=df_data)\n",
        "\n",
        "fig = plt.figure()\n",
        "ax = plt.axes(frameon=False)\n",
        "\n",
        "# Turn off frame. Turn off y axis.\n",
        "ax.set_frame_on(False)\n",
        "ax.axes.get_yaxis().set_visible(True)\n",
        "\n",
        "\n",
        "v = df.Confidence\n",
        "v = translate(v, 0.2, 0.95)\n",
        "colors = matplotlib.cm.Blues(v)\n",
        "\n",
        "ax = sns.barplot(x='Emotion', y='Confidence', data=df, \n",
        "palette=colors\n",
        ")\n",
        "# ax.bar(text_labels, ydata)\n",
        "ax.set_ylim((0, max(pred) + 0.1))\n",
        "xmin, xmax = ax.get_xaxis().get_view_interval()\n",
        "ymin, ymax = ax.get_yaxis().get_view_interval()\n",
        "ax.add_artist(plt.Line2D((xmin, xmax), (ymin, ymin), color='black', linewidth=2))\n",
        "ax.add_artist(plt.Line2D((xmin, xmin), (ymin, ymax), color='black', linewidth=1))\n",
        "\n",
        "ax.set_facecolor('white')\n",
        "ax.set_xlabel('Emotion')\n",
        "ax.set_ylabel('Confidence')\n",
        "ax.set_title(input_text)\n",
        "plt.show()"
      ],
      "execution_count": 0,
      "outputs": [
        {
          "output_type": "stream",
          "text": [
            "[0.016790548339486122, 0.010621024295687675, 0.017902549356222153, 0.025814641267061234, 0.4609393775463104, 0.45469117164611816, 0.013240624219179153]\n"
          ],
          "name": "stdout"
        },
        {
          "output_type": "display_data",
          "data": {
            "image/png": "[encoded data removed]",
            "text/plain": [
              "<Figure size 432x288 with 1 Axes>"
            ]
          },
          "metadata": {
            "tags": [],
            "needs_background": "light"
          }
        }
      ]
    },
    {
      "cell_type": "markdown",
      "metadata": {
        "id": "9Tbli2DiuqLU",
        "colab_type": "text"
      },
      "source": [
        "# Evaluate  Candidate"
      ]
    },
    {
      "cell_type": "code",
      "metadata": {
        "id": "PsIL7_tlutB7",
        "colab_type": "code",
        "outputId": "82cc7314-2317-4f46-cbe4-4220bc7baf5e",
        "colab": {
          "base_uri": "https://localhost:8080/",
          "height": 564
        }
      },
      "source": [
        "model = load_model(\n",
        "    CANDIDATE,\n",
        "    custom_objects={\n",
        "        'f1_m': f1_m,\n",
        "        'recall_m': recall_m,\n",
        "        'prec_m': prec_m\n",
        "  })\n",
        "\n",
        "# Evaluate the model on the test data\n",
        "labels = isear_split['test']['y']\n",
        "y_pred = []\n",
        "\n",
        "predictions = model.predict(isear_split['test']['x'])\n",
        "for pred in predictions:\n",
        "  pred_oh = np.argmax(pred)\n",
        "  y_pred.append(pred_oh)\n",
        "\n",
        "text_labels = ['anger', 'disgust', 'fear', 'guilt', 'joy', 'sadness', 'shame']\n",
        "\n",
        "y_true = [np.argmax(label) for label in labels]\n",
        "y_pred = [np.argmax(pred) for pred in predictions]\n",
        "\n",
        "report = classification_report(y_true, y_pred, digits=3)\n",
        "print(report)\n",
        "print('Precision: {0:0.3f}'.format(precision_score(y_true, y_pred, average='macro')))\n",
        "print('Recall: {0:0.3f}'.format(recall_score(y_true, y_pred, average='macro')))\n",
        "\n",
        "acc = sklearn.metrics.accuracy_score(y_true, y_pred)\n",
        "f1 = sklearn.metrics.f1_score(y_true, y_pred, average='macro')\n",
        "conf_matrix = confusion_matrix(y_true, y_pred, normalize='true')\n",
        "\n",
        "ax = sns.heatmap(conf_matrix, annot=conf_matrix, fmt='0.2f',\n",
        "  xticklabels=text_labels, yticklabels=text_labels,\n",
        "  cmap='Blues'\n",
        ")\n",
        "ax.set_yticklabels(ax.get_yticklabels(), rotation = 0)\n",
        "ax.tick_params(axis=u'both', which=u'both',length=0)\n",
        "plt.title('Normalized Confusion Matrix')\n",
        "plt.ylabel('True Class')\n",
        "plt.xlabel('Predicted Class')\n",
        "plt.savefig('ConfusionMatrix.png')\n",
        "plt.show()\n"
      ],
      "execution_count": 0,
      "outputs": [
        {
          "output_type": "stream",
          "text": [
            "              precision    recall  f1-score   support\n",
            "\n",
            "           0      0.527     0.616     0.568       112\n",
            "           1      0.776     0.590     0.670       100\n",
            "           2      0.693     0.725     0.709       109\n",
            "           3      0.471     0.554     0.509       101\n",
            "           4      0.753     0.700     0.725       100\n",
            "           5      0.581     0.626     0.603       115\n",
            "           6      0.517     0.422     0.465       109\n",
            "\n",
            "    accuracy                          0.605       746\n",
            "   macro avg      0.617     0.605     0.607       746\n",
            "weighted avg      0.614     0.605     0.606       746\n",
            "\n",
            "Precision: 0.617\n",
            "Recall: 0.605\n"
          ],
          "name": "stdout"
        },
        {
          "output_type": "display_data",
          "data": {
            "image/png": "[encoded data removed]",
            "text/plain": [
              "<Figure size 432x288 with 2 Axes>"
            ]
          },
          "metadata": {
            "tags": [],
            "needs_background": "light"
          }
        }
      ]
    }
  ]
}